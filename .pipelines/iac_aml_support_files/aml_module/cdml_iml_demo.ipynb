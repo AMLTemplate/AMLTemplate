{
 "cells": [
  {
   "cell_type": "markdown",
   "metadata": {},
   "source": [
    "# Build AML Pipeline with \"CDML Interpret ML\" module and built-in modules\n",
    "\n",
    "In this tutorial you will learn how to use Designer built-in module and custom module together to create a pipeline.\n",
    "\n",
    "1. Setup enrivonment - install module CLI and module/pipeline SDK\n",
    "2. Register \"CDML Interpret ML\" module into your aml workspace using CLI\n",
    "3. Use module/pipeline SDK to create a pipeline with modules registered in step 2 and the built-in module available in AML designer\n",
    "\n",
    "## Prerequisite\n",
    "* Install azure cli with azure-cli-ml extension and module sdk following the [instructions here](setup-environment.ipynb)\n"
   ]
  },
  {
   "cell_type": "code",
   "execution_count": null,
   "metadata": {},
   "outputs": [],
   "source": [
    "# you need to configure your ws information here\n",
    "subscription_id = '<your subscription ID>'\n",
    "workspace_name = '<your workspace name>'\n",
    "resource_group = '<your resource group>'"
   ]
  },
  {
   "cell_type": "markdown",
   "metadata": {},
   "source": [
    "## Register azureml module"
   ]
  },
  {
   "cell_type": "code",
   "execution_count": null,
   "metadata": {
    "scrolled": true
   },
   "outputs": [],
   "source": [
    "# login and set the default workspace using az ml folder attach command\n",
    "!az login -o none\n",
    "!az account set -s $subscription_id\n",
    "!az ml folder attach -w $workspace_name -g $resource_group "
   ]
  },
  {
   "cell_type": "code",
   "execution_count": null,
   "metadata": {
    "scrolled": true
   },
   "outputs": [],
   "source": [
    "# register a custom module\n",
    "# note, if it's a new azure ml workspace, yo need to open designer to activate datatype, otherwise you'll get error message,\n",
    "# \"Error occurred when loading YAML file iml_module_spec.yaml, details: Module CDML Interpret ML has invalid DataType references: Input Trained_model uses DataType ModelDirectory which does not exist.\"\n",
    "!az ml module register --spec-file=aml_module/InterpretML/iml_module_spec.yaml"
   ]
  },
  {
   "cell_type": "markdown",
   "metadata": {},
   "source": [
    "## Setup azureml workspace"
   ]
  },
  {
   "cell_type": "code",
   "execution_count": null,
   "metadata": {},
   "outputs": [],
   "source": [
    "import json\n",
    "from azureml.data.data_reference import DataReference\n",
    "from azureml.core import Workspace, Run, Dataset, Datastore\n",
    "from azureml.pipeline.wrapper import Pipeline, Module, dsl\n",
    "\n",
    "ws = Workspace.get(name=workspace_name, subscription_id=subscription_id, resource_group=resource_group)"
   ]
  },
  {
   "cell_type": "code",
   "execution_count": null,
   "metadata": {},
   "outputs": [],
   "source": [
    "\n",
    "# Specify available aml compute in workspace\n",
    "from azureml.core.compute import AmlCompute, ComputeTarget\n",
    "from azureml.core.compute_target import ComputeTargetException\n",
    "\n",
    "cluster_name = \"cpu-cluster\"\n",
    "\n",
    "try:\n",
    "    compute_target = ComputeTarget(workspace=ws, name=cluster_name)\n",
    "    print('Found existing compute target {}.'.format(cluster_name))\n",
    "except ComputeTargetException:\n",
    "    print('Creating a new compute target...')\n",
    "    compute_config = AmlCompute.provisioning_configuration(vm_size=\"Standard_D2_v2\",\n",
    "                                                               max_nodes=4)\n",
    "\n",
    "    compute_target = ComputeTarget.create(ws, cluster_name, compute_config)\n",
    "    compute_target.wait_for_completion(show_output=True, timeout_in_minutes=20)\n",
    "\n",
    "print(\"Azure Machine Learning Compute attached\")"
   ]
  },
  {
   "cell_type": "markdown",
   "metadata": {},
   "source": [
    "## Prepare datasets and load modules"
   ]
  },
  {
   "cell_type": "code",
   "execution_count": null,
   "metadata": {},
   "outputs": [],
   "source": [
    "data_name = 'Automobile_price_data'\n",
    "\n",
    "if data_name not in ws.datasets:\n",
    "    global_datastore = Datastore(ws, name=\"azureml_globaldatasets\")\n",
    "    automobile_data = Dataset.File.from_files(global_datastore.path('GenericCSV/Automobile_price_data_(Raw)')).register(workspace=ws, name='Automobile_price_data', description='Automobile_price_data')\n",
    "    print('Registerd')\n",
    "\n",
    "blob_input_data = ws.datasets[data_name]"
   ]
  },
  {
   "cell_type": "code",
   "execution_count": null,
   "metadata": {},
   "outputs": [],
   "source": [
    "# get built-in module\n",
    "select_column_func = Module.load(ws, namespace='azureml', name='Select Columns in Dataset')\n",
    "clean_data_func = Module.load(ws, namespace='azureml', name='Clean Missing Data')\n",
    "split_data_func = Module.load(ws, namespace='azureml', name='Split Data')\n",
    "linear_regression_func = Module.load(ws, namespace='azureml', name='Linear Regression')\n",
    "train_func = Module.load(ws, namespace='azureml', name='Train Model')\n",
    "score_func = Module.load(ws, namespace='azureml', name='Score Model')\n",
    "eval_func = Module.load(ws, namespace='azureml', name='Evaluate Model')\n",
    "\n",
    "#get custom module\n",
    "iml_func = Module.load(ws, namespace='microsoft.com/cosinedata', name='CDML Interpret ML')"
   ]
  },
  {
   "cell_type": "markdown",
   "metadata": {},
   "source": [
    "## Create azure ml pipeline"
   ]
  },
  {
   "cell_type": "code",
   "execution_count": null,
   "metadata": {},
   "outputs": [],
   "source": [
    "# define your pipeline\n",
    "\n",
    "@dsl.pipeline(name = 'Designer Sample with CDML Interpret ML', \n",
    "              description = 'Regression - Automobile Price Prediction with Interpret machine learning',\n",
    "              default_compute_target = cluster_name)\n",
    "def sample1_pipeline():\n",
    "    select = select_column_func(\n",
    "        dataset=blob_input_data, \n",
    "        select_columns=\"{\\\"isFilter\\\":true,\\\"rules\\\":\"\n",
    "                          \"[{\\\"exclude\\\":false,\\\"ruleType\\\":\\\"ColumnNames\\\",\\\"columns\\\":\"\n",
    "                          \"[\\\"engine-size\\\", \\\"horsepower\\\", \\\"compression-ratio\\\", \\\"city-mpg\\\", \\\"price\\\"]}]}\"\n",
    "    )   \n",
    "    \n",
    "    clean = clean_data_func(\n",
    "        dataset=select.outputs.results_dataset,\n",
    "        columns_to_be_cleaned=\"{\\\"isFilter\\\":true,\\\"rules\\\":[{\\\"ruleType\\\":\\\"AllColumns\\\",\\\"exclude\\\":false}]}\",\n",
    "        minimum_missing_value_ratio=0.0,\n",
    "        maximum_missing_value_ratio=1.0,\n",
    "        cleaning_mode='Remove entire row'\n",
    "    )\n",
    "    \n",
    "    split = split_data_func(\n",
    "        dataset=clean.outputs.cleaned_dataset,\n",
    "        splitting_mode='Split Rows',\n",
    "        fraction_of_rows_in_the_first_output_dataset=0.7,\n",
    "        randomized_split='True',\n",
    "        stratified_split='False'\n",
    "    )\n",
    "    \n",
    "    splittedTrainDataFeatures = select_column_func(\n",
    "        dataset=split.outputs.results_dataset1, \n",
    "        select_columns=\"{\\\"isFilter\\\":true,\\\"rules\\\":\"\n",
    "                          \"[{\\\"exclude\\\":false,\\\"ruleType\\\":\\\"ColumnNames\\\",\\\"columns\\\":\"\n",
    "                          \"[\\\"engine-size\\\", \\\"horsepower\\\", \\\"compression-ratio\\\", \\\"city-mpg\\\"]}]}\"\n",
    "    ) \n",
    "    \n",
    "    splittedTestDataFeatures = select_column_func(\n",
    "        dataset=split.outputs.results_dataset2, \n",
    "        select_columns=\"{\\\"isFilter\\\":true,\\\"rules\\\":\"\n",
    "                          \"[{\\\"exclude\\\":false,\\\"ruleType\\\":\\\"ColumnNames\\\",\\\"columns\\\":\"\n",
    "                          \"[\\\"engine-size\\\", \\\"horsepower\\\", \\\"compression-ratio\\\", \\\"city-mpg\\\"]}]}\"\n",
    "    ) \n",
    "    \n",
    "    algo = linear_regression_func(\n",
    "        solution_method='Ordinary Least Squares',\n",
    "        l2_regularization_weight=0.001,\n",
    "        include_intercept_term='True',\n",
    "        random_number_seed=0\n",
    "    )\n",
    "    \n",
    "    train = train_func(\n",
    "        dataset=split.outputs.results_dataset1,\n",
    "        untrained_model=algo.outputs.untrained_model,\n",
    "        label_column=\"{\\\"isFilter\\\":true,\\\"rules\\\":\"\n",
    "                        \"[{\\\"exclude\\\":false,\\\"ruleType\\\":\\\"ColumnNames\\\",\\\"columns\\\":[\\\"price\\\"]}]}\"\n",
    "    )\n",
    "    \n",
    "    iml = iml_func(\n",
    "        trained_model=train.outputs.trained_model,\n",
    "        dataset_to_train=splittedTrainDataFeatures.outputs.results_dataset,\n",
    "        dataset_to_test=splittedTestDataFeatures.outputs.results_dataset,\n",
    "        feature_names=\"engine-size,horsepower,compression-ratio,city-mpg\"\n",
    "    )\n",
    "    \n",
    "    return {**iml.outputs}"
   ]
  },
  {
   "cell_type": "code",
   "execution_count": null,
   "metadata": {},
   "outputs": [],
   "source": [
    "# create a pipeline\n",
    "pipeline = sample1_pipeline()"
   ]
  },
  {
   "cell_type": "code",
   "execution_count": null,
   "metadata": {},
   "outputs": [],
   "source": [
    "# validate pipeline and visualize the graph\n",
    "pipeline.validate()"
   ]
  },
  {
   "cell_type": "code",
   "execution_count": null,
   "metadata": {
    "scrolled": true
   },
   "outputs": [],
   "source": [
    "# save as a draft\n",
    "pipeline.save(experiment_name = 'pipeline-with-cdml-iml-module')"
   ]
  },
  {
   "cell_type": "code",
   "execution_count": null,
   "metadata": {},
   "outputs": [],
   "source": [
    "run = pipeline.submit(\n",
    "    experiment_name = 'pipeline-with-cdml-iml-module',\n",
    "    tags={'mode':'module-SDK'}\n",
    ")\n",
    "    \n",
    "run.wait_for_completion()"
   ]
  },
  {
   "cell_type": "code",
   "execution_count": null,
   "metadata": {},
   "outputs": [],
   "source": []
  }
 ],
 "metadata": {
  "kernelspec": {
   "display_name": "Python 3",
   "language": "python",
   "name": "python3"
  },
  "language_info": {
   "codemirror_mode": {
    "name": "ipython",
    "version": 3
   },
   "file_extension": ".py",
   "mimetype": "text/x-python",
   "name": "python",
   "nbconvert_exporter": "python",
   "pygments_lexer": "ipython3",
   "version": "3.7.7"
  }
 },
 "nbformat": 4,
 "nbformat_minor": 4
}
